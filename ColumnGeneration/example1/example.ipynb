{
 "cells": [
  {
   "cell_type": "code",
   "execution_count": 1,
   "metadata": {},
   "outputs": [],
   "source": [
    "import numpy as np\n",
    "import gurobipy as gp\n",
    "from gurobipy import GRB"
   ]
  },
  {
   "cell_type": "code",
   "execution_count": 2,
   "metadata": {},
   "outputs": [
    {
     "name": "stdout",
     "output_type": "stream",
     "text": [
      "[[2 0 0]\n",
      " [0 1 0]\n",
      " [0 0 1]]\n",
      "[5 5 5]\n",
      "Restricted license - for non-production use only - expires 2025-11-24\n"
     ]
    }
   ],
   "source": [
    "\"\"\"\n",
    "Restricted Master Problem (RMP)\n",
    "\n",
    "\n",
    "\"\"\"\n",
    "N = 3\n",
    "M = 3\n",
    "patterns = np.matrix([[2, 0, 0], [0, 1, 0], [0, 0, 1]])\n",
    "print(patterns)\n",
    "c = np.array([5, 5, 5])\n",
    "rhs = np.array([30, 20, 40])\n",
    "print(c)\n",
    "model = gp.Model(\"cutting stock\")\n",
    "x = model.addVars(N, vtype=GRB.INTEGER, name=\"x\")\n",
    "cons = model.addConstrs((gp.quicksum(patterns[i, j] * x[j] for j in range(3)) >= rhs[i] for i in range(3)))\n",
    "model.setObjective(gp.quicksum(c[i]*x[i] for i in range(3)))\n",
    "model.write(\"master.lp\")"
   ]
  },
  {
   "cell_type": "code",
   "execution_count": 3,
   "metadata": {},
   "outputs": [
    {
     "name": "stdout",
     "output_type": "stream",
     "text": [
      "Gurobi Optimizer version 11.0.0 build v11.0.0rc2 (win64 - Windows 11+.0 (22631.2))\n",
      "\n",
      "CPU model: 11th Gen Intel(R) Core(TM) i5-1135G7 @ 2.40GHz, instruction set [SSE2|AVX|AVX2|AVX512]\n",
      "Thread count: 4 physical cores, 8 logical processors, using up to 8 threads\n",
      "\n",
      "Optimize a model with 3 rows, 3 columns and 3 nonzeros\n",
      "Model fingerprint: 0x9d89c5da\n",
      "Variable types: 0 continuous, 3 integer (0 binary)\n",
      "Coefficient statistics:\n",
      "  Matrix range     [1e+00, 2e+00]\n",
      "  Objective range  [5e+00, 5e+00]\n",
      "  Bounds range     [0e+00, 0e+00]\n",
      "  RHS range        [2e+01, 4e+01]\n",
      "Found heuristic solution: objective 375.0000000\n",
      "Presolve removed 3 rows and 3 columns\n",
      "Presolve time: 0.00s\n",
      "Presolve: All rows and columns removed\n",
      "\n",
      "Explored 0 nodes (0 simplex iterations) in 0.01 seconds (0.00 work units)\n",
      "Thread count was 1 (of 8 available processors)\n",
      "\n",
      "Solution count 1: 375 \n",
      "\n",
      "Optimal solution found (tolerance 1.00e-04)\n",
      "Best objective 3.750000000000e+02, best bound 3.750000000000e+02, gap 0.0000%\n"
     ]
    }
   ],
   "source": [
    "model.optimize()"
   ]
  },
  {
   "cell_type": "code",
   "execution_count": 4,
   "metadata": {},
   "outputs": [
    {
     "name": "stdout",
     "output_type": "stream",
     "text": [
      "x[0] = 15 x[1] = 20 x[2] = 40 \n",
      "optimal:  375.0\n"
     ]
    }
   ],
   "source": [
    "for v in model.getVars():\n",
    "    print(\"%s = %g\" % (v.VarName, v.x), end = \" \")\n",
    "print()\n",
    "print(\"optimal: \", model.ObjVal)"
   ]
  },
  {
   "cell_type": "code",
   "execution_count": 5,
   "metadata": {},
   "outputs": [
    {
     "name": "stdout",
     "output_type": "stream",
     "text": [
      "Gurobi Optimizer version 11.0.0 build v11.0.0rc2 (win64 - Windows 11+.0 (22631.2))\n",
      "\n",
      "CPU model: 11th Gen Intel(R) Core(TM) i5-1135G7 @ 2.40GHz, instruction set [SSE2|AVX|AVX2|AVX512]\n",
      "Thread count: 4 physical cores, 8 logical processors, using up to 8 threads\n",
      "\n",
      "Optimize a model with 3 rows, 3 columns and 3 nonzeros\n",
      "Model fingerprint: 0x6021a812\n",
      "Coefficient statistics:\n",
      "  Matrix range     [1e+00, 2e+00]\n",
      "  Objective range  [5e+00, 5e+00]\n",
      "  Bounds range     [0e+00, 0e+00]\n",
      "  RHS range        [2e+01, 4e+01]\n",
      "Presolve removed 3 rows and 3 columns\n",
      "Presolve time: 0.01s\n",
      "Presolve: All rows and columns removed\n",
      "Iteration    Objective       Primal Inf.    Dual Inf.      Time\n",
      "       0    3.7500000e+02   0.000000e+00   0.000000e+00      0s\n",
      "\n",
      "Solved in 0 iterations and 0.01 seconds (0.00 work units)\n",
      "Optimal objective  3.750000000e+02\n"
     ]
    }
   ],
   "source": [
    "model2 = gp.Model(\"cutting stock continous\")\n",
    "y = model2.addVars(N, vtype=GRB.CONTINUOUS, name=\"y\")\n",
    "cons = model2.addConstrs((gp.quicksum(patterns[i, j] * y[j] for j in range(3)) >= rhs[i] for i in range(3)))\n",
    "model2.setObjective(gp.quicksum(c[i]*y[i] for i in range(3)))\n",
    "model2.optimize()"
   ]
  },
  {
   "cell_type": "code",
   "execution_count": 6,
   "metadata": {},
   "outputs": [
    {
     "name": "stdout",
     "output_type": "stream",
     "text": [
      "shadow:  [2.5, 5.0, 5.0]\n"
     ]
    }
   ],
   "source": [
    "shadow = model2.getAttr('Pi', model2.getConstrs())\n",
    "print(\"shadow: \", shadow)"
   ]
  },
  {
   "cell_type": "code",
   "execution_count": 7,
   "metadata": {},
   "outputs": [
    {
     "name": "stdout",
     "output_type": "stream",
     "text": [
      "Gurobi Optimizer version 11.0.0 build v11.0.0rc2 (win64 - Windows 11+.0 (22631.2))\n",
      "\n",
      "CPU model: 11th Gen Intel(R) Core(TM) i5-1135G7 @ 2.40GHz, instruction set [SSE2|AVX|AVX2|AVX512]\n",
      "Thread count: 4 physical cores, 8 logical processors, using up to 8 threads\n",
      "\n",
      "Optimize a model with 1 rows, 3 columns and 3 nonzeros\n",
      "Model fingerprint: 0x2e342b45\n",
      "Variable types: 0 continuous, 3 integer (0 binary)\n",
      "Coefficient statistics:\n",
      "  Matrix range     [4e+00, 7e+00]\n",
      "  Objective range  [3e+00, 5e+00]\n",
      "  Bounds range     [0e+00, 0e+00]\n",
      "  RHS range        [9e+00, 9e+00]\n",
      "Found heuristic solution: objective -0.0000000\n",
      "Presolve removed 1 rows and 3 columns\n",
      "Presolve time: 0.00s\n",
      "Presolve: All rows and columns removed\n",
      "\n",
      "Explored 0 nodes (0 simplex iterations) in 0.01 seconds (0.00 work units)\n",
      "Thread count was 1 (of 8 available processors)\n",
      "\n",
      "Solution count 2: 2.5 -0 \n",
      "\n",
      "Optimal solution found (tolerance 1.00e-04)\n",
      "Best objective 2.500000000000e+00, best bound 2.500000000000e+00, gap 0.0000%\n",
      "a[0] = 1 a[1] = 1 a[2] = -0 \n",
      "optimal:  2.5\n"
     ]
    }
   ],
   "source": [
    "\"\"\"\n",
    "Subproblem I\n",
    "\n",
    "max 2.5 a1j + 5 a2j + 5 a3j - 5\n",
    "\n",
    "s.t.\n",
    "4 a1j + 5 a2j + 5 a3j <= 9\n",
    "aij \\in Z+\n",
    "\"\"\"\n",
    "reduced_cost = []\n",
    "sub1 = gp.Model(\"subproblem 1\")\n",
    "demand = np.array([4, 5, 7])\n",
    "a = sub1.addVars(3, vtype = GRB.INTEGER, name = \"a\")\n",
    "sub1.addConstr((gp.quicksum(a[i] * demand[i] for i in range(3))) <= 9)\n",
    "sub1.setObjective(gp.quicksum(shadow[i] * a[i] for i in range(3)) - 5, GRB.MAXIMIZE)\n",
    "sub1.write(\"sub1.lp\")\n",
    "sub1.optimize()\n",
    "for v in sub1.getVars():\n",
    "    print(\"%s = %g\" % (v.VarName, v.x), end = \" \")\n",
    "print()\n",
    "print(\"optimal: \", sub1.ObjVal)\n",
    "reduced_cost.append(sub1.ObjVal)\n"
   ]
  },
  {
   "cell_type": "code",
   "execution_count": 8,
   "metadata": {},
   "outputs": [
    {
     "name": "stdout",
     "output_type": "stream",
     "text": [
      "Gurobi Optimizer version 11.0.0 build v11.0.0rc2 (win64 - Windows 11+.0 (22631.2))\n",
      "\n",
      "CPU model: 11th Gen Intel(R) Core(TM) i5-1135G7 @ 2.40GHz, instruction set [SSE2|AVX|AVX2|AVX512]\n",
      "Thread count: 4 physical cores, 8 logical processors, using up to 8 threads\n",
      "\n",
      "Optimize a model with 1 rows, 3 columns and 3 nonzeros\n",
      "Model fingerprint: 0x7d90ec48\n",
      "Variable types: 0 continuous, 3 integer (0 binary)\n",
      "Coefficient statistics:\n",
      "  Matrix range     [4e+00, 7e+00]\n",
      "  Objective range  [3e+00, 5e+00]\n",
      "  Bounds range     [0e+00, 0e+00]\n",
      "  RHS range        [1e+01, 1e+01]\n",
      "Found heuristic solution: objective -1.5000000\n",
      "Presolve removed 1 rows and 3 columns\n",
      "Presolve time: 0.00s\n",
      "Presolve: All rows and columns removed\n",
      "\n",
      "Explored 0 nodes (0 simplex iterations) in 0.01 seconds (0.00 work units)\n",
      "Thread count was 1 (of 8 available processors)\n",
      "\n",
      "Solution count 2: 3.5 -1.5 \n",
      "\n",
      "Optimal solution found (tolerance 1.00e-04)\n",
      "Best objective 3.500000000000e+00, best bound 3.500000000000e+00, gap 0.0000%\n",
      "a[0] = 1 a[1] = 2 a[2] = -0 \n",
      "optimal:  3.5\n"
     ]
    }
   ],
   "source": [
    "\"\"\"\n",
    "Subproblem II\n",
    "\n",
    "max 2.5 a1j + 5 a2j + 5 a3j - 9\n",
    "\n",
    "s.t.\n",
    "4 a1j + 5 a2j + 5 a3j <= 14\n",
    "aij \\in Z+\n",
    "\"\"\"\n",
    "sub2 = gp.Model(\"subproblem 2\")\n",
    "demand = np.array([4, 5, 7])\n",
    "a = sub2.addVars(3, vtype = GRB.INTEGER, name = \"a\")\n",
    "sub2.addConstr((gp.quicksum(a[i] * demand[i] for i in range(3))) <= 14)\n",
    "sub2.setObjective(gp.quicksum(shadow[i] * a[i] for i in range(3)) - 9, GRB.MAXIMIZE)\n",
    "sub2.write(\"sub3.lp\")\n",
    "sub2.optimize()\n",
    "for v in sub2.getVars():\n",
    "    print(\"%s = %g\" % (v.VarName, v.x), end = \" \")\n",
    "print()\n",
    "print(\"optimal: \", sub2.ObjVal)\n",
    "reduced_cost.append(sub2.ObjVal)\n"
   ]
  },
  {
   "cell_type": "code",
   "execution_count": 9,
   "metadata": {},
   "outputs": [
    {
     "name": "stdout",
     "output_type": "stream",
     "text": [
      "Gurobi Optimizer version 11.0.0 build v11.0.0rc2 (win64 - Windows 11+.0 (22631.2))\n",
      "\n",
      "CPU model: 11th Gen Intel(R) Core(TM) i5-1135G7 @ 2.40GHz, instruction set [SSE2|AVX|AVX2|AVX512]\n",
      "Thread count: 4 physical cores, 8 logical processors, using up to 8 threads\n",
      "\n",
      "Optimize a model with 1 rows, 3 columns and 3 nonzeros\n",
      "Model fingerprint: 0x8fbdc27b\n",
      "Variable types: 0 continuous, 3 integer (0 binary)\n",
      "Coefficient statistics:\n",
      "  Matrix range     [4e+00, 7e+00]\n",
      "  Objective range  [3e+00, 5e+00]\n",
      "  Bounds range     [0e+00, 0e+00]\n",
      "  RHS range        [2e+01, 2e+01]\n",
      "Found heuristic solution: objective -0.0000000\n",
      "Presolve removed 1 rows and 3 columns\n",
      "Presolve time: 0.00s\n",
      "Presolve: All rows and columns removed\n",
      "\n",
      "Explored 0 nodes (0 simplex iterations) in 0.01 seconds (0.00 work units)\n",
      "Thread count was 1 (of 8 available processors)\n",
      "\n",
      "Solution count 2: 5 -0 \n",
      "\n",
      "Optimal solution found (tolerance 1.00e-04)\n",
      "Best objective 5.000000000000e+00, best bound 5.000000000000e+00, gap 0.0000%\n",
      "a[0] = 0 a[1] = 3 a[2] = -0 \n",
      "optimal:  5.0\n"
     ]
    }
   ],
   "source": [
    "\"\"\"\n",
    "Subproblem III\n",
    "\n",
    "max 2.5 a1j + 5 a2j + 5 a3j - 10\n",
    "\n",
    "s.t.\n",
    "4 a1j + 5 a2j + 5 a3j <= 16\n",
    "aij \\in Z+\n",
    "\"\"\"\n",
    "sub3 = gp.Model(\"subproblem 3\")\n",
    "demand = np.array([4, 5, 7])\n",
    "a = sub3.addVars(3, vtype = GRB.INTEGER, name = \"a\")\n",
    "sub3.addConstr((gp.quicksum(a[i] * demand[i] for i in range(3))) <= 16)\n",
    "sub3.setObjective(gp.quicksum(shadow[i] * a[i] for i in range(3)) - 10, GRB.MAXIMIZE)\n",
    "sub3.write(\"sub3.lp\")\n",
    "sub3.optimize()\n",
    "for v in sub3.getVars():\n",
    "    print(\"%s = %g\" % (v.VarName, v.x), end = \" \")\n",
    "print()\n",
    "print(\"optimal: \", sub3.ObjVal)\n",
    "reduced_cost.append(sub3.ObjVal)"
   ]
  },
  {
   "cell_type": "code",
   "execution_count": 10,
   "metadata": {},
   "outputs": [
    {
     "name": "stdout",
     "output_type": "stream",
     "text": [
      "Optimal found\n"
     ]
    }
   ],
   "source": [
    "if any([ele < 0 for ele in reduced_cost]):\n",
    "    print(\"Iteration\")\n",
    "else:\n",
    "    print(\"Optimal found\")"
   ]
  }
 ],
 "metadata": {
  "kernelspec": {
   "display_name": "Python 3",
   "language": "python",
   "name": "python3"
  },
  "language_info": {
   "codemirror_mode": {
    "name": "ipython",
    "version": 3
   },
   "file_extension": ".py",
   "mimetype": "text/x-python",
   "name": "python",
   "nbconvert_exporter": "python",
   "pygments_lexer": "ipython3",
   "version": "3.11.3"
  }
 },
 "nbformat": 4,
 "nbformat_minor": 2
}
